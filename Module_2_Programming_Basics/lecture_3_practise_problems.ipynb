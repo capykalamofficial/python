{
 "cells": [
  {
   "cell_type": "code",
   "execution_count": null,
   "metadata": {},
   "outputs": [],
   "source": [
    "# Question 1\n",
    "# Ask the user to enter their age using input(). \n",
    "# Convert the input to an integer and check if they are eligible to vote (18 or older).\n",
    "# Print appropriate messages using if...else.\n",
    "\n",
    "# Write your code here"
   ]
  },
  {
   "cell_type": "code",
   "execution_count": null,
   "metadata": {},
   "outputs": [],
   "source": [
    "# Question 2\n",
    "# Take two numbers as input from the user and convert them to integers.\n",
    "# Compare them using if...elif...else and print whether the first number is greater, smaller, or equal to the second number.\n",
    "\n",
    "# Write your code here"
   ]
  },
  {
   "cell_type": "code",
   "execution_count": null,
   "metadata": {},
   "outputs": [],
   "source": [
    "# Question 3\n",
    "# Ask the user to enter their name and favorite color.\n",
    "# Use an f-string to format and print a message like \"Hello [name], your favorite color is [color]!\""
   ]
  },
  {
   "cell_type": "code",
   "execution_count": null,
   "metadata": {},
   "outputs": [],
   "source": [
    "# Question 4\n",
    "# Ask the user to enter a temperature in Celsius. Convert it to Fahrenheit using the formula: F = (C * 9/5) + 32\n",
    "# Print the result using an f-string.\n",
    "\n",
    "# Write your code here"
   ]
  },
  {
   "cell_type": "code",
   "execution_count": null,
   "metadata": {},
   "outputs": [],
   "source": [
    "# Question 5\n",
    "# Ask the user for their marks and convert the input to an integer.\n",
    "# Use if...elif...else to determine their grade (A, B, C, D, or F) based on a grading scale.\n",
    "\n",
    "# Write your code here"
   ]
  },
  {
   "cell_type": "code",
   "execution_count": null,
   "metadata": {},
   "outputs": [],
   "source": [
    "# Question 6\n",
    "# Ask the user for a year. \n",
    "# Convert it to an integer and check if it is a leap year (divisible by 4 but not by 100 unless also divisible by 400).\n",
    "# Print the result.\n",
    "\n",
    "# Write your code here"
   ]
  }
 ],
 "metadata": {
  "language_info": {
   "name": "python"
  }
 },
 "nbformat": 4,
 "nbformat_minor": 2
}
