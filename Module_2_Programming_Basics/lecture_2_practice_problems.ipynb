{
 "cells": [
  {
   "cell_type": "code",
   "execution_count": 1,
   "metadata": {},
   "outputs": [],
   "source": [
    "# Question 1\n",
    "# Define two integer variables, a and b, with values 10 and 5 respectively.\n",
    "# Perform addition, subtraction, multiplication, and division operations on these variables.\n",
    "a = 10\n",
    "b = 5\n",
    "\n",
    "# Write your code here"
   ]
  },
  {
   "cell_type": "code",
   "execution_count": null,
   "metadata": {},
   "outputs": [],
   "source": [
    "# Question 2\n",
    "# Create a float variable 'pi' with the value 3.14159.\n",
    "# Multiply 'pi' with an integer variable 'radius' of value 7 to find the circumference of a circle (C = 2 * pi * r).\n",
    "# Print the circumference\n",
    "pi = 3.14159\n",
    "radius = 7\n",
    "\n",
    "# Write your code here"
   ]
  },
  {
   "cell_type": "code",
   "execution_count": null,
   "metadata": {},
   "outputs": [],
   "source": [
    "# Question 3\n",
    "# Compare two numbers, 15 and 20, using comparison operators (>, <, ==, !=).\n",
    "# Print the results of each comparison.\n",
    "x = 15\n",
    "y = 20\n",
    "\n",
    "# Write your code here"
   ]
  },
  {
   "cell_type": "code",
   "execution_count": null,
   "metadata": {},
   "outputs": [],
   "source": [
    "# Question 4\n",
    "# Calculate the remainder when 29 is divided by 4 using the modulus operator.\n",
    "\n",
    "# Write your code here"
   ]
  },
  {
   "cell_type": "code",
   "execution_count": null,
   "metadata": {},
   "outputs": [],
   "source": [
    "# Question 5\n",
    "# Use integer division to find how many times 9 fits completely into 100.\n",
    "\n",
    "# Write your code here"
   ]
  },
  {
   "cell_type": "code",
   "execution_count": null,
   "metadata": {},
   "outputs": [],
   "source": [
    "# Question 6\n",
    "# Check if the string \"Python\" is equal to \"python\" using the equality operator.\n",
    "\n",
    "# Write your code here"
   ]
  },
  {
   "cell_type": "code",
   "execution_count": null,
   "metadata": {},
   "outputs": [],
   "source": [
    "# Question 7\n",
    "# Assign the value 25 to a variable 'num'.\n",
    "# Check if 'num' is both greater than 10 and less than 50 using logical operators.\n",
    "num = 25\n",
    "\n",
    "# Write your code here"
   ]
  },
  {
   "cell_type": "code",
   "execution_count": null,
   "metadata": {},
   "outputs": [],
   "source": [
    "# Question 8\n",
    "# Assign the string \"Python\" to a variable 'lang'.\n",
    "# Repeat this string 3 times using the multiplication operator.\n",
    "lang = \"Python\"\n",
    "\n",
    "# Write your code here"
   ]
  }
 ],
 "metadata": {
  "kernelspec": {
   "display_name": "Python 3",
   "language": "python",
   "name": "python3"
  },
  "language_info": {
   "codemirror_mode": {
    "name": "ipython",
    "version": 3
   },
   "file_extension": ".py",
   "mimetype": "text/x-python",
   "name": "python",
   "nbconvert_exporter": "python",
   "pygments_lexer": "ipython3",
   "version": "3.9.6"
  }
 },
 "nbformat": 4,
 "nbformat_minor": 2
}
