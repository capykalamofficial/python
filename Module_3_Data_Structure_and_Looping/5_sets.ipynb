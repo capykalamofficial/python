{
 "cells": [
  {
   "cell_type": "markdown",
   "metadata": {},
   "source": [
    "## Sets"
   ]
  },
  {
   "cell_type": "code",
   "execution_count": null,
   "metadata": {},
   "outputs": [],
   "source": [
    "# Question 1\n",
    "# Create a set of numbers: 1, 2, 3, 4, 5.\n",
    "# Print the set.\n",
    "\n",
    "# Write your code here"
   ]
  },
  {
   "cell_type": "code",
   "execution_count": null,
   "metadata": {},
   "outputs": [],
   "source": [
    "# Question 2\n",
    "# Create a set with strings \"apple\", \"banana\", \"cherry\".\n",
    "# Add the string \"orange\" to the set and print it.\n",
    "\n",
    "# Write your code here"
   ]
  },
  {
   "cell_type": "code",
   "execution_count": null,
   "metadata": {},
   "outputs": [],
   "source": [
    "# Question 3\n",
    "# Given the set {1, 2, 3, 4, 5}, remove the number 3 from the set using .remove().\n",
    "# Then print the updated set.\n",
    "\n",
    "# Write your code here"
   ]
  },
  {
   "cell_type": "code",
   "execution_count": null,
   "metadata": {},
   "outputs": [],
   "source": [
    "# Question 4\n",
    "# Create two sets: set1 = {1, 2, 3, 4} and set2 = {3, 4, 5, 6}.\n",
    "# Find the intersection of both sets and print the result.\n",
    "\n",
    "# Write your code here"
   ]
  },
  {
   "cell_type": "code",
   "execution_count": null,
   "metadata": {},
   "outputs": [],
   "source": [
    "# Question 5\n",
    "# Create two sets: set1 = {1, 2, 3, 4} and set2 = {3, 4, 5, 6}.\n",
    "# Find the union of both sets and print the result.\n",
    "\n",
    "# Write your code here"
   ]
  },
  {
   "cell_type": "code",
   "execution_count": null,
   "metadata": {},
   "outputs": [],
   "source": [
    "# Question 6\n",
    "# Create a set {1, 2, 3} and another set {2, 3, 4}.\n",
    "# Find the difference between the sets and print the result.\n",
    "\n",
    "# Write your code here"
   ]
  },
  {
   "cell_type": "code",
   "execution_count": null,
   "metadata": {},
   "outputs": [],
   "source": [
    "# Question 7\n",
    "# Create a set with the string values \"apple\", \"banana\", \"cherry\".\n",
    "# Check if \"banana\" exists in the set and print True if it does, False otherwise.\n",
    "\n",
    "# Write your code here"
   ]
  },
  {
   "cell_type": "code",
   "execution_count": null,
   "metadata": {},
   "outputs": [],
   "source": [
    "# Question 8\n",
    "# Given the list with duplicate elements: [1, 2, 2, 3, 4, 4, 5],\n",
    "# Remove the duplicates by converting the list to a set and then back to a list.\n",
    "# Print the updated list.\n",
    "\n",
    "# Write your code here"
   ]
  }
 ],
 "metadata": {
  "language_info": {
   "name": "python"
  }
 },
 "nbformat": 4,
 "nbformat_minor": 2
}
